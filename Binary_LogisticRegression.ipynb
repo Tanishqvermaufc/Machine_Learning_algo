{
 "cells": [
  {
   "cell_type": "code",
   "execution_count": 1,
   "metadata": {},
   "outputs": [],
   "source": [
    "from sklearn.datasets import make_classification\n",
    "from matplotlib import pyplot as plt\n",
    "from sklearn.metrics import confusion_matrix\n",
    "from sklearn.linear_model import LogisticRegression\n",
    "from sklearn.model_selection import train_test_split\n",
    "import pandas as pd"
   ]
  },
  {
   "cell_type": "code",
   "execution_count": 21,
   "metadata": {},
   "outputs": [],
   "source": [
    "x, y = make_classification(n_samples=100, n_features=1, n_classes=2, n_clusters_per_class=1, flip_y=0.07, n_informative=1, n_redundant=0, n_repeated=0)"
   ]
  },
  {
   "cell_type": "code",
   "execution_count": 22,
   "metadata": {
    "scrolled": true
   },
   "outputs": [
    {
     "name": "stdout",
     "output_type": "stream",
     "text": [
      "[[ 0.98185549]\n",
      " [ 1.02166084]\n",
      " [ 0.94129808]\n",
      " [-1.27128224]\n",
      " [ 0.98182054]\n",
      " [ 1.01556154]\n",
      " [ 1.05652162]\n",
      " [ 0.99643435]\n",
      " [-0.65918472]\n",
      " [ 0.97878633]\n",
      " [-1.5101722 ]\n",
      " [-0.40389699]\n",
      " [-0.95205332]\n",
      " [-1.24802368]\n",
      " [-1.14880432]\n",
      " [-0.42994394]\n",
      " [-0.42492822]\n",
      " [ 1.06041239]\n",
      " [ 1.06370523]\n",
      " [-1.05404264]\n",
      " [ 0.94620714]\n",
      " [-0.85592878]\n",
      " [ 1.05889226]\n",
      " [-0.8547556 ]\n",
      " [-1.41548141]\n",
      " [ 0.98128305]\n",
      " [-0.80149635]\n",
      " [-1.15435261]\n",
      " [ 0.98404582]\n",
      " [-1.02970118]\n",
      " [-0.57043879]\n",
      " [-1.01330702]\n",
      " [ 0.93389053]\n",
      " [ 1.02863402]\n",
      " [ 1.0348981 ]\n",
      " [ 0.95613013]\n",
      " [ 0.94884819]\n",
      " [-0.85283566]\n",
      " [ 0.99578554]\n",
      " [-0.93142962]\n",
      " [ 1.01426063]\n",
      " [ 0.96660766]\n",
      " [-0.76056337]\n",
      " [ 1.00914908]\n",
      " [-1.12403448]\n",
      " [ 1.03280137]\n",
      " [-1.2773317 ]\n",
      " [ 0.97912082]\n",
      " [ 0.9698816 ]\n",
      " [ 0.96414113]\n",
      " [ 1.0428851 ]\n",
      " [-0.46067531]\n",
      " [-0.73308386]\n",
      " [ 0.92655724]\n",
      " [-0.69333375]\n",
      " [-0.56577429]\n",
      " [-1.2671398 ]\n",
      " [ 0.98768446]\n",
      " [-0.93637196]\n",
      " [-0.10771653]\n",
      " [ 1.04707283]\n",
      " [-1.18027517]\n",
      " [-0.48772603]\n",
      " [-1.40745667]\n",
      " [ 0.97254666]\n",
      " [-0.82208126]\n",
      " [ 1.00895016]\n",
      " [-0.82286146]\n",
      " [ 1.07448955]\n",
      " [-1.15916524]\n",
      " [-1.11098246]\n",
      " [-1.47545274]\n",
      " [ 1.00275496]\n",
      " [-0.81168774]\n",
      " [ 1.00368761]\n",
      " [ 1.01943744]\n",
      " [-0.87169388]\n",
      " [ 0.9677716 ]\n",
      " [-1.34441246]\n",
      " [-1.45253923]\n",
      " [-1.14147088]\n",
      " [ 1.03371771]\n",
      " [ 0.95259994]\n",
      " [-0.70872648]\n",
      " [ 1.01012728]\n",
      " [-1.44257724]\n",
      " [ 1.00432922]\n",
      " [-0.97731336]\n",
      " [-1.02371316]\n",
      " [ 0.93191033]\n",
      " [-0.76854308]\n",
      " [ 0.95243657]\n",
      " [ 1.03451203]\n",
      " [ 0.97662444]\n",
      " [ 0.98647491]\n",
      " [ 1.00458573]\n",
      " [-0.61912277]\n",
      " [-1.56231804]\n",
      " [ 1.02453582]\n",
      " [ 1.04294063]]\n",
      "[1 1 1 0 1 1 1 1 0 1 0 0 0 0 0 0 0 1 1 0 1 0 1 0 0 1 1 0 1 0 0 0 1 1 1 1 1\n",
      " 0 1 0 1 1 0 1 0 1 0 1 1 1 1 0 0 1 0 0 0 1 0 1 1 0 0 0 1 1 1 0 1 0 0 0 1 0\n",
      " 1 1 0 1 0 0 0 1 1 0 1 0 1 0 0 1 0 1 1 1 1 1 0 0 1 1]\n"
     ]
    }
   ],
   "source": [
    "print(x)\n",
    "print(y)"
   ]
  },
  {
   "cell_type": "code",
   "execution_count": 23,
   "metadata": {},
   "outputs": [
    {
     "data": {
      "image/png": "[encoded data removed]",
      "text/plain": [
       "<Figure size 432x288 with 1 Axes>"
      ]
     },
     "metadata": {
      "needs_background": "light"
     },
     "output_type": "display_data"
    }
   ],
   "source": [
    "plt.scatter(x,y, c=y,cmap='rainbow')\n",
    "plt.title('Scatter plot of logistic regression')\n",
    "plt.show()"
   ]
  },
  {
   "cell_type": "code",
   "execution_count": 24,
   "metadata": {},
   "outputs": [],
   "source": [
    "x_train, x_test, y_train, y_test= train_test_split(x,y, test_size=0.3)"
   ]
  },
  {
   "cell_type": "code",
   "execution_count": 25,
   "metadata": {},
   "outputs": [
    {
     "data": {
      "text/plain": [
       "LogisticRegression(C=1.0, class_weight=None, dual=False, fit_intercept=True,\n",
       "                   intercept_scaling=1, l1_ratio=None, max_iter=100,\n",
       "                   multi_class='auto', n_jobs=None, penalty='l2',\n",
       "                   random_state=None, solver='lbfgs', tol=0.0001, verbose=0,\n",
       "                   warm_start=False)"
      ]
     },
     "execution_count": 25,
     "metadata": {},
     "output_type": "execute_result"
    }
   ],
   "source": [
    "log_reg = LogisticRegression()\n",
    "log_reg.fit(x_train, y_train)"
   ]
  },
  {
   "cell_type": "code",
   "execution_count": 26,
   "metadata": {},
   "outputs": [],
   "source": [
    "y_pred = log_reg.predict(x_test)"
   ]
  },
  {
   "cell_type": "code",
   "execution_count": 27,
   "metadata": {},
   "outputs": [
    {
     "data": {
      "text/plain": [
       "array([[14,  0],\n",
       "       [ 0, 16]], dtype=int64)"
      ]
     },
     "execution_count": 27,
     "metadata": {},
     "output_type": "execute_result"
    }
   ],
   "source": [
    "confusion_matrix(y_test, y_pred)"
   ]
  }
 ],
 "metadata": {
  "kernelspec": {
   "display_name": "Python 3",
   "language": "python",
   "name": "python3"
  },
  "language_info": {
   "codemirror_mode": {
    "name": "ipython",
    "version": 3
   },
   "file_extension": ".py",
   "mimetype": "text/x-python",
   "name": "python",
   "nbconvert_exporter": "python",
   "pygments_lexer": "ipython3",
   "version": "3.7.6"
  }
 },
 "nbformat": 4,
 "nbformat_minor": 4
}
